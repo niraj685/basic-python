{
  "nbformat": 4,
  "nbformat_minor": 0,
  "metadata": {
    "colab": {
      "provenance": []
    },
    "kernelspec": {
      "name": "python3",
      "display_name": "Python 3"
    },
    "language_info": {
      "name": "python"
    }
  },
  "cells": [
    {
      "cell_type": "markdown",
      "source": [
        "# Basic Python"
      ],
      "metadata": {
        "id": "8nQ7DHp9LOPQ"
      }
    },
    {
      "cell_type": "markdown",
      "source": [
        "1.  What is Python, and why is it popular?\n",
        "\n",
        "  - python is a high-level, interpreted programming language known for its simplicity and readability.\n",
        "\n",
        "why python is popular\n",
        "  \n",
        "  - Large Standard Library:  Python comes with a comprehensive standard library that provides support for various tasks without the need for additional installations.\n",
        "\n",
        "  - Versatility: Python is a general-purpose language, meaning it can be used for a wide range of applications, including web development, data analysis, artificial intelligence, machine learning, automation, scientific computing, and more.\n",
        "\n",
        "  - Easy to Learn and Read: Python emphasizes readability and simplicity, making it an excellent choice for beginners. Its clean syntax reduces the cost of program maintenance and development.\n",
        "\n",
        "  - Interpretation and Compilation: Python is an interpreted language, which means code is executed line by line, making it easier to debug and test. However, Python can also be compiled into bytecode for improved performance using tools like PyInstaller, Cython, or Nuitka.\n",
        "\n",
        "  - Dynamic Typing: Python uses dynamic typing, meaning you don't need to declare variable types explicitly. This flexibility allows for rapid development and prototyping.\n",
        "\n",
        "  - Community Support: Python has a vast and active community of developers who contribute to its ecosystem by creating libraries, frameworks, and tools. This community support makes it easy to find solutions to problems, learn new techniques, and collaborate on projects.\n",
        "\n",
        "2. What is an interpreter in Python?\n",
        "\n",
        "  - An interpreter in python is a program that directly executes the python code and run it.instead of first converting it into machin code.so basically interpreter is a engine that read and run python code.\n",
        "\n",
        "3. What are pre-defined keywords in Python?\n",
        "\n",
        "  - pre-defined keywords are special reservd words that have specific meanings in the language.\n",
        "  for example-if,else,true,false,none etc.\n",
        "\n",
        "4. Can keywords be used as variable names?\n",
        "\n",
        "  - No,keywords cannot be used as veriable name in python. because they are reserved words that python itself uses to understand the code structure.\n",
        "\n",
        "5. What is mutability in Python?\n",
        "\n",
        "  - In python, mutability means whether the value of and object can be changed after it is created.\n",
        "  and object and container whose state or value can be chsnged after they are created are called as mutable object. list is a mutble object.\n",
        "\n",
        "6. Why are lists mutable, but tuples are immutable?\n",
        "\n",
        "  - list in python are designed to store a sequence of items that can change.\n",
        "  so we can add new elements,remove elements,update the value.\n",
        "  for example-\n",
        "\n"
      ],
      "metadata": {
        "id": "SIY6VuNiLyOW"
      }
    },
    {
      "cell_type": "code",
      "source": [
        "a=[1,2,3,4]\n",
        "a[0]=0\n",
        "print(a)\n",
        "\n"
      ],
      "metadata": {
        "colab": {
          "base_uri": "https://localhost:8080/"
        },
        "id": "mqBmzv5QUx6G",
        "outputId": "e45635bb-c54a-4247-93b0-e7532961dd77"
      },
      "execution_count": null,
      "outputs": [
        {
          "output_type": "stream",
          "name": "stdout",
          "text": [
            "[0, 2, 3, 4]\n"
          ]
        }
      ]
    },
    {
      "cell_type": "markdown",
      "source": [
        " -  tuples are meant to be fixed collections of item.once a tuple is created,python ebsure its contents remain contant.\n",
        "  for example-"
      ],
      "metadata": {
        "id": "8tGhX4emaQub"
      }
    },
    {
      "cell_type": "code",
      "source": [
        "b = \"pwskills\"\n",
        "b[0] = \"i\"\n"
      ],
      "metadata": {
        "colab": {
          "base_uri": "https://localhost:8080/",
          "height": 158
        },
        "id": "k6n_BVZ5a2bY",
        "outputId": "2cefde24-d157-450a-cc61-b85b87ebdc7d"
      },
      "execution_count": null,
      "outputs": [
        {
          "output_type": "error",
          "ename": "TypeError",
          "evalue": "'str' object does not support item assignment",
          "traceback": [
            "\u001b[0;31m---------------------------------------------------------------------------\u001b[0m",
            "\u001b[0;31mTypeError\u001b[0m                                 Traceback (most recent call last)",
            "\u001b[0;32m/tmp/ipython-input-1449169587.py\u001b[0m in \u001b[0;36m<cell line: 0>\u001b[0;34m()\u001b[0m\n\u001b[1;32m      1\u001b[0m \u001b[0mb\u001b[0m \u001b[0;34m=\u001b[0m \u001b[0;34m\"pwskills\"\u001b[0m\u001b[0;34m\u001b[0m\u001b[0;34m\u001b[0m\u001b[0m\n\u001b[0;32m----> 2\u001b[0;31m \u001b[0mb\u001b[0m\u001b[0;34m[\u001b[0m\u001b[0;36m0\u001b[0m\u001b[0;34m]\u001b[0m \u001b[0;34m=\u001b[0m \u001b[0;34m\"i\"\u001b[0m\u001b[0;34m\u001b[0m\u001b[0;34m\u001b[0m\u001b[0m\n\u001b[0m",
            "\u001b[0;31mTypeError\u001b[0m: 'str' object does not support item assignment"
          ]
        }
      ]
    },
    {
      "cell_type": "code",
      "source": [],
      "metadata": {
        "id": "BFXFESHCdaxt"
      },
      "execution_count": null,
      "outputs": []
    },
    {
      "cell_type": "markdown",
      "source": [
        "7.  What is the difference between “==” and “is” operators in Python?\n",
        "  - ==(Equality Operator)\n",
        "  it means checks whether value of two object are the same. it does not care if they are stored at different momory locations.\n",
        "  example-\n"
      ],
      "metadata": {
        "id": "OMqWCsUYde4W"
      }
    },
    {
      "cell_type": "code",
      "source": [
        "a = [1,2,3]\n",
        "b = [1,2,3]\n",
        "print(a==b)"
      ],
      "metadata": {
        "colab": {
          "base_uri": "https://localhost:8080/"
        },
        "id": "KOw3mjRcfCIX",
        "outputId": "24336d61-645e-4c71-b02c-97eec48f36d3"
      },
      "execution_count": null,
      "outputs": [
        {
          "output_type": "stream",
          "name": "stdout",
          "text": [
            "True\n"
          ]
        }
      ]
    },
    {
      "cell_type": "markdown",
      "source": [
        "  - is (identy operator) it means checks whether two variables point to the exact same object in memory.it checks object identity not just value.\n",
        "  example-\n"
      ],
      "metadata": {
        "id": "JtIivrL-flgn"
      }
    },
    {
      "cell_type": "code",
      "source": [
        "a = [1,2,3]\n",
        "b = [1,2,3]\n",
        "print(a is b)"
      ],
      "metadata": {
        "colab": {
          "base_uri": "https://localhost:8080/"
        },
        "id": "3aBh1PE5gZ_9",
        "outputId": "f7af8ca4-3a72-4223-d6f1-861a00ccf0e3"
      },
      "execution_count": null,
      "outputs": [
        {
          "output_type": "stream",
          "name": "stdout",
          "text": [
            "False\n"
          ]
        }
      ]
    },
    {
      "cell_type": "code",
      "source": [
        "print(a==b)"
      ],
      "metadata": {
        "colab": {
          "base_uri": "https://localhost:8080/"
        },
        "id": "2f21S8xugu1u",
        "outputId": "d07d27e9-4987-4ba5-efc4-ba1abeeb4a09"
      },
      "execution_count": null,
      "outputs": [
        {
          "output_type": "stream",
          "name": "stdout",
          "text": [
            "True\n"
          ]
        }
      ]
    },
    {
      "cell_type": "markdown",
      "source": [
        "8.  What are logical operators in Python?\n",
        "  - In python logical operators are special used to combine conditional Statement(expressions that evaluate to either true or false). they help in decision making by controlling the flow of a program.\n",
        "  \n",
        "  python has three logical operators-\n",
        "\n",
        "  1. and\n",
        "     - it means retuen true if both conditions are true otherise false.\n",
        "     - example\n",
        "\n"
      ],
      "metadata": {
        "id": "JFZ_Cb0ng4eD"
      }
    },
    {
      "cell_type": "code",
      "source": [
        "a = 6\n",
        "print(a>5 and a<10)"
      ],
      "metadata": {
        "colab": {
          "base_uri": "https://localhost:8080/"
        },
        "id": "GmcDeWyXj-aZ",
        "outputId": "f6e405d5-f152-4645-c48f-4664b499ccfb"
      },
      "execution_count": null,
      "outputs": [
        {
          "output_type": "stream",
          "name": "stdout",
          "text": [
            "True\n"
          ]
        }
      ]
    },
    {
      "cell_type": "markdown",
      "source": [
        "   2. or\n",
        "       - it means return true if at least one condition is true and return false if both are false.\n",
        "       - example"
      ],
      "metadata": {
        "id": "2O95RGJNkfCT"
      }
    },
    {
      "cell_type": "code",
      "source": [
        "a = 6\n",
        "print(a>5 or a<5)"
      ],
      "metadata": {
        "colab": {
          "base_uri": "https://localhost:8080/"
        },
        "id": "Aa1zqmqIlAxr",
        "outputId": "0c87e0b2-c2e6-47cd-af51-fde6c34ea5a4"
      },
      "execution_count": null,
      "outputs": [
        {
          "output_type": "stream",
          "name": "stdout",
          "text": [
            "True\n"
          ]
        }
      ]
    },
    {
      "cell_type": "markdown",
      "source": [
        "  3. not\n",
        "     - it means reverses the result. if the condition is true,it become false\n",
        "     - example-"
      ],
      "metadata": {
        "id": "PUZbbZoBlhbQ"
      }
    },
    {
      "cell_type": "code",
      "source": [
        "a = 6\n",
        "print(not(a>5 and a<10))"
      ],
      "metadata": {
        "colab": {
          "base_uri": "https://localhost:8080/"
        },
        "id": "QAcQWruQmLKR",
        "outputId": "eb3fc67b-7087-4427-ec4c-dd7462f7d81f"
      },
      "execution_count": null,
      "outputs": [
        {
          "output_type": "stream",
          "name": "stdout",
          "text": [
            "False\n"
          ]
        }
      ]
    },
    {
      "cell_type": "markdown",
      "source": [
        "9.  What is type casting in Python?\n",
        "  - Type Casting means in python,is the process of changing the Data type of a value/object into another.\n",
        "  - there is 2 type of type casting first is implicit and other is explicit\n",
        "  -in implicit python understand the data type by itself\n",
        "  -in explicit we have to convert data type using inbuilt function like- str,int,float,bool.\n",
        "\n",
        "10.  What is the difference between implicit and explicit type casting?\n",
        "\n",
        "  - implicit\n",
        "  - in implicit python automaticaly understand the data type by itself we don't need type any extra code.\n",
        "  - example\n",
        "\n"
      ],
      "metadata": {
        "id": "5zWkPOUemloL"
      }
    },
    {
      "cell_type": "code",
      "source": [
        "a = 5\n",
        "b = 5.5\n",
        "c = a + b\n",
        "print(c)"
      ],
      "metadata": {
        "colab": {
          "base_uri": "https://localhost:8080/"
        },
        "id": "h5SPsgygpy1P",
        "outputId": "c92bbd39-733f-43e8-fe84-be0ad0bd1b42"
      },
      "execution_count": null,
      "outputs": [
        {
          "output_type": "stream",
          "name": "stdout",
          "text": [
            "10.5\n"
          ]
        }
      ]
    },
    {
      "cell_type": "code",
      "source": [
        "print(type(c))"
      ],
      "metadata": {
        "colab": {
          "base_uri": "https://localhost:8080/"
        },
        "id": "BOQY0lbnqJr_",
        "outputId": "17a1f91e-a349-46be-b259-3b48e14cdc22"
      },
      "execution_count": null,
      "outputs": [
        {
          "output_type": "stream",
          "name": "stdout",
          "text": [
            "<class 'float'>\n"
          ]
        }
      ]
    },
    {
      "cell_type": "markdown",
      "source": [
        "  - explicit\n",
        "  -in explicit python will not understand the data type its done manually by the programmer.\n",
        "  - example"
      ],
      "metadata": {
        "id": "8_WsHHDgqe7j"
      }
    },
    {
      "cell_type": "code",
      "source": [
        "a = \"5\"\n",
        "type(a)"
      ],
      "metadata": {
        "colab": {
          "base_uri": "https://localhost:8080/"
        },
        "id": "Ur0ipi8KrJUZ",
        "outputId": "691cb0a1-09d8-41e3-f64e-1fa3b5bb98aa"
      },
      "execution_count": null,
      "outputs": [
        {
          "output_type": "execute_result",
          "data": {
            "text/plain": [
              "str"
            ]
          },
          "metadata": {},
          "execution_count": 14
        }
      ]
    },
    {
      "cell_type": "code",
      "source": [
        "int(a)"
      ],
      "metadata": {
        "colab": {
          "base_uri": "https://localhost:8080/"
        },
        "id": "Yu8pNTr_r3hC",
        "outputId": "cc31ab6c-5989-45c5-c150-4396d3ea7999"
      },
      "execution_count": null,
      "outputs": [
        {
          "output_type": "execute_result",
          "data": {
            "text/plain": [
              "5"
            ]
          },
          "metadata": {},
          "execution_count": 15
        }
      ]
    },
    {
      "cell_type": "code",
      "source": [
        "float(a)"
      ],
      "metadata": {
        "colab": {
          "base_uri": "https://localhost:8080/"
        },
        "id": "SXA0jBcqr9ux",
        "outputId": "24ebdcfc-fb33-4095-8731-9fa9613bfaab"
      },
      "execution_count": null,
      "outputs": [
        {
          "output_type": "execute_result",
          "data": {
            "text/plain": [
              "5.0"
            ]
          },
          "metadata": {},
          "execution_count": 16
        }
      ]
    },
    {
      "cell_type": "markdown",
      "source": [
        "11. What is the purpose of conditional statements in Python?\n",
        "  - conditional statement helps us to code decisions based on some pre conditions.\n",
        "  the purpose of conditional statement in python is to let a program make decision and execute certain blocks of code only when specific conditions are true.\n",
        "\n",
        "12.  How does the elif statement work?\n",
        "   - In python, elif(else if) Statements are used to test multiple conditions in a sequential manner, following an initial 'if' statement.they provide a way to executive different blocks of code based on which condition in met first.\n",
        "  \n",
        "  how elif statement work:\n",
        "\n",
        "  - Initial 'if' statement: the process begins with an 'if' statement tht evaluates a condition.if this condition is 'true', the code block asociated with the 'if' statement is executed, and the entire 'if-elif-else block is exited.\n",
        "  - elif conditions: if the 'if' condition is 'false',python proceeds to ecaluate the first 'elif' condition. if the elif condition is 'true' its corresponding code block is executed, and thr entire 'if-elif-else block is exited.\n",
        "  - Subsequent 'elif' conditions: if the first 'elif' condition is also 'false', python move to the next 'elif' condition and repeat the evaluation process.\n",
        "  - else statement(optionl): if all 'if' and 'elif' conditions evaluatedto 'false' ,the code block associated with optional 'else' statement is executed.\n",
        "  example\n",
        "\n"
      ],
      "metadata": {
        "id": "0xYP2OvJsFsF"
      }
    },
    {
      "cell_type": "code",
      "source": [
        "marks = 85\n",
        "if marks >= 90:\n",
        "  print(\"Grade A\")\n",
        "elif marks >= 80:\n",
        "  print(\"Grade B\")\n",
        "elif marks >= 70:\n",
        "  print(\"Grade C\")\n",
        "else:\n",
        "    print(\"Grade D\")"
      ],
      "metadata": {
        "colab": {
          "base_uri": "https://localhost:8080/"
        },
        "id": "0oBnUaU291Q5",
        "outputId": "3aa123ec-eaab-4d84-c7b2-cdd5cf2dce11"
      },
      "execution_count": 2,
      "outputs": [
        {
          "output_type": "stream",
          "name": "stdout",
          "text": [
            "Grade B\n"
          ]
        }
      ]
    },
    {
      "cell_type": "markdown",
      "source": [
        "13. What is the difference between for and while loops?\n",
        "\n",
        "  - for loop:\n",
        "  - used when you know in advance how many times you want to run the loop.\n",
        "  - Iterates over a sequences(like a list,str,tuple,or range).\n",
        "  -Automatically moves to next item in the sequence.\n",
        "\n",
        "  example\n"
      ],
      "metadata": {
        "id": "0xk_aJel-Wvs"
      }
    },
    {
      "cell_type": "code",
      "source": [
        "fruits = [\"apple\",\"banana\",\"cherry\"]\n",
        "for fruit in fruits:\n",
        "  print(\"I like\",fruit)"
      ],
      "metadata": {
        "colab": {
          "base_uri": "https://localhost:8080/"
        },
        "id": "eopkHi9f_wWe",
        "outputId": "18550904-3e21-44c7-9c44-1ca2436710cd"
      },
      "execution_count": 4,
      "outputs": [
        {
          "output_type": "stream",
          "name": "stdout",
          "text": [
            "I like apple\n",
            "I like banana\n",
            "I like cherry\n"
          ]
        }
      ]
    },
    {
      "cell_type": "markdown",
      "source": [
        "  - while loop\n",
        "  - used when you don't know in Advance how many times the loop should run\n",
        "  - runs as long as a condition remains true\n",
        "  -you must manually update the loop variabl,or it may become an infinite loop.\n",
        "\n",
        "  example\n"
      ],
      "metadata": {
        "id": "_95NUYJFCyQG"
      }
    },
    {
      "cell_type": "code",
      "source": [
        "fruit = [\"apple\",\"bnana\",\"cherry\"]\n",
        "i = 0\n",
        "\n",
        "while i < len(fruits):\n",
        "  print(\"I like\",fruits[i])\n",
        "  i += 1"
      ],
      "metadata": {
        "colab": {
          "base_uri": "https://localhost:8080/"
        },
        "id": "fBcG0NfKDjxB",
        "outputId": "d61bfe31-b21d-404c-bac4-00bd76ffc73d"
      },
      "execution_count": 5,
      "outputs": [
        {
          "output_type": "stream",
          "name": "stdout",
          "text": [
            "I like apple\n",
            "I like banana\n",
            "I like cherry\n"
          ]
        }
      ]
    },
    {
      "cell_type": "markdown",
      "source": [
        "14. Describe a scenario where a while loop is more suitable than a for loop?\n",
        "\n",
        "  - scenario: asking a user for a correct password.\n",
        "  - so here we are making a program where the user must enter the correct password.we don't know how many attempts they will take.\n",
        "\n",
        "  - so here, a while loop is better than a for loop because the numbe of repetitions is unknown in advance\n",
        "\n",
        "  example\n"
      ],
      "metadata": {
        "id": "sJHOwx8CEW1S"
      }
    },
    {
      "cell_type": "code",
      "source": [
        "password = \"neeraj123\"\n",
        "user_input = \"\"\n",
        "\n",
        "while user_input != password:\n",
        "  user_input = input(\"Enter the password:\")\n",
        "print(\"Access granted\")"
      ],
      "metadata": {
        "colab": {
          "base_uri": "https://localhost:8080/"
        },
        "id": "tgyZT4fVGsEJ",
        "outputId": "983a81bd-5525-4af3-c7c5-1bacaf5f1242"
      },
      "execution_count": 26,
      "outputs": [
        {
          "output_type": "stream",
          "name": "stdout",
          "text": [
            "Enter the password:neeraj123\n",
            "Access granted\n"
          ]
        }
      ]
    },
    {
      "cell_type": "code",
      "source": [
        ""
      ],
      "metadata": {
        "id": "9HmMqgHrKsCr"
      },
      "execution_count": null,
      "outputs": []
    },
    {
      "cell_type": "markdown",
      "source": [
        "# Practical Questons\n",
        "\n",
        "1. Write a Python program to print \"Hello, World!\"\n",
        "\n"
      ],
      "metadata": {
        "id": "VVakAjOwLm68"
      }
    },
    {
      "cell_type": "code",
      "source": [
        "print(\"hello world!\")"
      ],
      "metadata": {
        "colab": {
          "base_uri": "https://localhost:8080/"
        },
        "id": "grhQrg6FMWXB",
        "outputId": "2727ceda-1c4a-4393-8035-50e9b2e8f3da"
      },
      "execution_count": 29,
      "outputs": [
        {
          "output_type": "stream",
          "name": "stdout",
          "text": [
            "hello world!\n"
          ]
        }
      ]
    },
    {
      "cell_type": "markdown",
      "source": [
        "2.  Write a Python program that displays your name and age.\n"
      ],
      "metadata": {
        "id": "0TZtnEXvMe1h"
      }
    },
    {
      "cell_type": "code",
      "source": [
        "name = \"neeraj\"\n",
        "age = 25\n",
        "print(\"my name is\",name,\"and my age is\",age)"
      ],
      "metadata": {
        "colab": {
          "base_uri": "https://localhost:8080/"
        },
        "id": "3UBx1VhdMpeQ",
        "outputId": "b81d110d-7f20-4151-850b-0b4810826223"
      },
      "execution_count": 30,
      "outputs": [
        {
          "output_type": "stream",
          "name": "stdout",
          "text": [
            "my name is neeraj and my age is 25\n"
          ]
        }
      ]
    },
    {
      "cell_type": "markdown",
      "source": [
        "3. Write code to print all the pre-defined keywords in Python using the keyword library.\n"
      ],
      "metadata": {
        "id": "c60l9rk4NBLQ"
      }
    },
    {
      "cell_type": "code",
      "source": [
        "help(\"keywords\")"
      ],
      "metadata": {
        "colab": {
          "base_uri": "https://localhost:8080/"
        },
        "id": "QE6s7FFkNId6",
        "outputId": "56f9bb9e-637c-43fd-e2ee-8bfd7d7a81e3"
      },
      "execution_count": 32,
      "outputs": [
        {
          "output_type": "stream",
          "name": "stdout",
          "text": [
            "\n",
            "Here is a list of the Python keywords.  Enter any keyword to get more help.\n",
            "\n",
            "False               class               from                or\n",
            "None                continue            global              pass\n",
            "True                def                 if                  raise\n",
            "and                 del                 import              return\n",
            "as                  elif                in                  try\n",
            "assert              else                is                  while\n",
            "async               except              lambda              with\n",
            "await               finally             nonlocal            yield\n",
            "break               for                 not                 \n",
            "\n"
          ]
        }
      ]
    },
    {
      "cell_type": "markdown",
      "source": [
        "4. Write a program that checks if a given word is a Python keyword.\n"
      ],
      "metadata": {
        "id": "QsmoNZLFOo7E"
      }
    },
    {
      "cell_type": "code",
      "source": [
        "word = \"if\"\n",
        "if keyword.iskeyword(word):\n",
        "  print(\"it is a keyword\")\n",
        "else:\n",
        "  print(\"it is not a keyword\")"
      ],
      "metadata": {
        "colab": {
          "base_uri": "https://localhost:8080/"
        },
        "id": "OdyP_KqpOxg7",
        "outputId": "21f78229-377d-491c-f795-df10f7dc7bbb"
      },
      "execution_count": 36,
      "outputs": [
        {
          "output_type": "stream",
          "name": "stdout",
          "text": [
            "it is a keyword\n"
          ]
        }
      ]
    },
    {
      "cell_type": "markdown",
      "source": [
        "5. Create a list and tuple in Python, and demonstrate how attempting to change an element works differently for each.\n"
      ],
      "metadata": {
        "id": "Rzv5rg-rRY6r"
      }
    },
    {
      "cell_type": "code",
      "source": [
        "my_list = [10 ,20 ,30]\n",
        "print(my_list)"
      ],
      "metadata": {
        "colab": {
          "base_uri": "https://localhost:8080/"
        },
        "id": "Ad8uaQ4QRgK0",
        "outputId": "96c4a76c-5dc4-49d0-eef4-fbabcbe0da98"
      },
      "execution_count": 37,
      "outputs": [
        {
          "output_type": "stream",
          "name": "stdout",
          "text": [
            "[10, 20, 30]\n"
          ]
        }
      ]
    },
    {
      "cell_type": "code",
      "source": [
        "my_list[1] = 200\n",
        "print(my_list)"
      ],
      "metadata": {
        "colab": {
          "base_uri": "https://localhost:8080/"
        },
        "id": "-1ZeGMHVXJrd",
        "outputId": "42874036-16f8-45a6-ebee-b813175163b7"
      },
      "execution_count": 38,
      "outputs": [
        {
          "output_type": "stream",
          "name": "stdout",
          "text": [
            "[10, 200, 30]\n"
          ]
        }
      ]
    },
    {
      "cell_type": "code",
      "source": [
        "my_tuple = (10,20,30)\n",
        "print(my_tuple)"
      ],
      "metadata": {
        "colab": {
          "base_uri": "https://localhost:8080/"
        },
        "id": "jz7RZYY8XXgy",
        "outputId": "8ff6efde-995d-448a-831f-9a84252ad300"
      },
      "execution_count": 39,
      "outputs": [
        {
          "output_type": "stream",
          "name": "stdout",
          "text": [
            "(10, 20, 30)\n"
          ]
        }
      ]
    },
    {
      "cell_type": "code",
      "source": [
        "my_tuple[1] = 200\n",
        "print(my_tuple)"
      ],
      "metadata": {
        "colab": {
          "base_uri": "https://localhost:8080/",
          "height": 158
        },
        "id": "vfhTvbgoXgjT",
        "outputId": "66a5d312-479e-4b7f-b1af-54da43ff302e"
      },
      "execution_count": 42,
      "outputs": [
        {
          "output_type": "error",
          "ename": "TypeError",
          "evalue": "'tuple' object does not support item assignment",
          "traceback": [
            "\u001b[0;31m---------------------------------------------------------------------------\u001b[0m",
            "\u001b[0;31mTypeError\u001b[0m                                 Traceback (most recent call last)",
            "\u001b[0;32m/tmp/ipython-input-1220804015.py\u001b[0m in \u001b[0;36m<cell line: 0>\u001b[0;34m()\u001b[0m\n\u001b[0;32m----> 1\u001b[0;31m \u001b[0mmy_tuple\u001b[0m\u001b[0;34m[\u001b[0m\u001b[0;36m1\u001b[0m\u001b[0;34m]\u001b[0m \u001b[0;34m=\u001b[0m \u001b[0mint\u001b[0m\u001b[0;34m(\u001b[0m\u001b[0;36m200\u001b[0m\u001b[0;34m)\u001b[0m\u001b[0;34m\u001b[0m\u001b[0;34m\u001b[0m\u001b[0m\n\u001b[0m\u001b[1;32m      2\u001b[0m \u001b[0mprint\u001b[0m\u001b[0;34m(\u001b[0m\u001b[0mmy_tuple\u001b[0m\u001b[0;34m)\u001b[0m\u001b[0;34m\u001b[0m\u001b[0;34m\u001b[0m\u001b[0m\n",
            "\u001b[0;31mTypeError\u001b[0m: 'tuple' object does not support item assignment"
          ]
        }
      ]
    },
    {
      "cell_type": "markdown",
      "source": [
        "6. Write a function to demonstrate the behavior of mutable and immutable arguments."
      ],
      "metadata": {
        "id": "winweNqSYI8O"
      }
    },
    {
      "cell_type": "code",
      "source": [
        "my_list = [1,2,3]\n",
        "print(my_list)"
      ],
      "metadata": {
        "colab": {
          "base_uri": "https://localhost:8080/"
        },
        "id": "1jLZhlr1YV0n",
        "outputId": "f4e612cf-f6db-43e0-9b65-90bbc7aea439"
      },
      "execution_count": 44,
      "outputs": [
        {
          "output_type": "stream",
          "name": "stdout",
          "text": [
            "[1, 2, 3]\n"
          ]
        }
      ]
    },
    {
      "cell_type": "code",
      "source": [
        "my_list[1] = 100\n",
        "print(my_list)"
      ],
      "metadata": {
        "colab": {
          "base_uri": "https://localhost:8080/"
        },
        "id": "sGI-LMm8Y6Hs",
        "outputId": "4b562137-b539-4a00-83f6-2c7ae129a76b"
      },
      "execution_count": 52,
      "outputs": [
        {
          "output_type": "stream",
          "name": "stdout",
          "text": [
            "[1, 100, 3]\n"
          ]
        }
      ]
    },
    {
      "cell_type": "code",
      "source": [
        "my_tuple = \"pwskilla\"\n",
        "print(my_tuple)"
      ],
      "metadata": {
        "colab": {
          "base_uri": "https://localhost:8080/"
        },
        "id": "ygxI6YpmZRyY",
        "outputId": "ff843ed7-d846-4d47-e613-cefaf1c800c5"
      },
      "execution_count": 57,
      "outputs": [
        {
          "output_type": "stream",
          "name": "stdout",
          "text": [
            "pwskilla\n"
          ]
        }
      ]
    },
    {
      "cell_type": "code",
      "source": [
        "my_tuple[1] = 100\n",
        "print(my_tuple)"
      ],
      "metadata": {
        "colab": {
          "base_uri": "https://localhost:8080/",
          "height": 158
        },
        "id": "DSgmZNfHZr6d",
        "outputId": "f9aa8b6a-6cc2-49c4-c7e7-fdc82cde25e1"
      },
      "execution_count": 58,
      "outputs": [
        {
          "output_type": "error",
          "ename": "TypeError",
          "evalue": "'str' object does not support item assignment",
          "traceback": [
            "\u001b[0;31m---------------------------------------------------------------------------\u001b[0m",
            "\u001b[0;31mTypeError\u001b[0m                                 Traceback (most recent call last)",
            "\u001b[0;32m/tmp/ipython-input-2136551995.py\u001b[0m in \u001b[0;36m<cell line: 0>\u001b[0;34m()\u001b[0m\n\u001b[0;32m----> 1\u001b[0;31m \u001b[0mmy_tuple\u001b[0m\u001b[0;34m[\u001b[0m\u001b[0;36m1\u001b[0m\u001b[0;34m]\u001b[0m \u001b[0;34m=\u001b[0m \u001b[0;36m100\u001b[0m\u001b[0;34m\u001b[0m\u001b[0;34m\u001b[0m\u001b[0m\n\u001b[0m\u001b[1;32m      2\u001b[0m \u001b[0mprint\u001b[0m\u001b[0;34m(\u001b[0m\u001b[0mmy_tuple\u001b[0m\u001b[0;34m)\u001b[0m\u001b[0;34m\u001b[0m\u001b[0;34m\u001b[0m\u001b[0m\n",
            "\u001b[0;31mTypeError\u001b[0m: 'str' object does not support item assignment"
          ]
        }
      ]
    },
    {
      "cell_type": "markdown",
      "source": [
        "7. Write a program that performs basic arithmetic operations on two user-input numbers."
      ],
      "metadata": {
        "id": "rUX_j-D5cWix"
      }
    },
    {
      "cell_type": "code",
      "source": [
        "num1 = 10\n",
        "num2 = 5\n",
        "num1 = float(num1)\n",
        "num2 = float(num2)\n",
        "print(num1 + num2)\n",
        "print(num1 - num2)\n",
        "print(num1 * num2)\n",
        "print(num1 / num2)"
      ],
      "metadata": {
        "colab": {
          "base_uri": "https://localhost:8080/"
        },
        "id": "2iWtQI9md5nB",
        "outputId": "1e88a060-872f-401d-fa94-b5ce156b440e"
      },
      "execution_count": 62,
      "outputs": [
        {
          "output_type": "stream",
          "name": "stdout",
          "text": [
            "15.0\n",
            "5.0\n",
            "50.0\n",
            "2.0\n"
          ]
        }
      ]
    },
    {
      "cell_type": "markdown",
      "source": [
        "8. Write a program to demonstrate the use of logical operators.\n"
      ],
      "metadata": {
        "id": "92wPlaaMeoY7"
      }
    },
    {
      "cell_type": "code",
      "source": [
        "a = True\n",
        "b = False\n",
        "print(a)\n",
        "print(b)"
      ],
      "metadata": {
        "colab": {
          "base_uri": "https://localhost:8080/"
        },
        "id": "ojc2BPB-fLGn",
        "outputId": "1ca8ba34-7b0c-4075-fdd9-20bd1c2fd25f"
      },
      "execution_count": 65,
      "outputs": [
        {
          "output_type": "stream",
          "name": "stdout",
          "text": [
            "True\n",
            "False\n"
          ]
        }
      ]
    },
    {
      "cell_type": "code",
      "source": [
        "print(a and b)"
      ],
      "metadata": {
        "colab": {
          "base_uri": "https://localhost:8080/"
        },
        "id": "wi8h8kGEfeFa",
        "outputId": "2fe02764-70e0-4bf6-cb63-65bdb2dade27"
      },
      "execution_count": 66,
      "outputs": [
        {
          "output_type": "stream",
          "name": "stdout",
          "text": [
            "False\n"
          ]
        }
      ]
    },
    {
      "cell_type": "code",
      "source": [
        "print(a or b)"
      ],
      "metadata": {
        "colab": {
          "base_uri": "https://localhost:8080/"
        },
        "id": "yXcensfufr-a",
        "outputId": "1c30421b-fd89-4a2b-92e2-d60ec29a45cd"
      },
      "execution_count": 67,
      "outputs": [
        {
          "output_type": "stream",
          "name": "stdout",
          "text": [
            "True\n"
          ]
        }
      ]
    },
    {
      "cell_type": "code",
      "source": [
        "print(not a)"
      ],
      "metadata": {
        "colab": {
          "base_uri": "https://localhost:8080/"
        },
        "id": "83slPimEf0vt",
        "outputId": "1915a234-864b-4033-ca60-a0c8f9ce58c0"
      },
      "execution_count": 68,
      "outputs": [
        {
          "output_type": "stream",
          "name": "stdout",
          "text": [
            "False\n"
          ]
        }
      ]
    },
    {
      "cell_type": "code",
      "source": [
        "print(not b)"
      ],
      "metadata": {
        "colab": {
          "base_uri": "https://localhost:8080/"
        },
        "id": "XA1s-Odnf_AN",
        "outputId": "0daf221a-8903-45f6-b5c9-357298950d29"
      },
      "execution_count": 69,
      "outputs": [
        {
          "output_type": "stream",
          "name": "stdout",
          "text": [
            "True\n"
          ]
        }
      ]
    },
    {
      "cell_type": "code",
      "source": [
        "print(a > 0 and b > 0)"
      ],
      "metadata": {
        "colab": {
          "base_uri": "https://localhost:8080/"
        },
        "id": "6Abejs2HgGSB",
        "outputId": "1cb069c7-f9f1-4ff8-f394-95f2e469356e"
      },
      "execution_count": 72,
      "outputs": [
        {
          "output_type": "stream",
          "name": "stdout",
          "text": [
            "False\n"
          ]
        }
      ]
    },
    {
      "cell_type": "code",
      "source": [
        "print(a > 0 or y < 0)"
      ],
      "metadata": {
        "colab": {
          "base_uri": "https://localhost:8080/"
        },
        "id": "-jURS3o3gVsH",
        "outputId": "6838333f-078e-43c4-e780-aa49b40c7504"
      },
      "execution_count": 73,
      "outputs": [
        {
          "output_type": "stream",
          "name": "stdout",
          "text": [
            "True\n"
          ]
        }
      ]
    },
    {
      "cell_type": "code",
      "source": [
        "print(not(a > b))"
      ],
      "metadata": {
        "colab": {
          "base_uri": "https://localhost:8080/"
        },
        "id": "sUXJc4u_g1MW",
        "outputId": "b0701a1d-390f-4d10-e282-f12d4ed809d6"
      },
      "execution_count": 75,
      "outputs": [
        {
          "output_type": "stream",
          "name": "stdout",
          "text": [
            "False\n"
          ]
        }
      ]
    },
    {
      "cell_type": "markdown",
      "source": [
        "9.  Write a Python program to convert user input from string to integer, float, and boolean types."
      ],
      "metadata": {
        "id": "5uMDfyfLhIkN"
      }
    },
    {
      "cell_type": "code",
      "source": [
        "a = 25\n",
        "type(a)"
      ],
      "metadata": {
        "colab": {
          "base_uri": "https://localhost:8080/"
        },
        "id": "ZltXq8u4hZHZ",
        "outputId": "7f50d207-0c54-4613-ef57-89e4baa9ff70"
      },
      "execution_count": 76,
      "outputs": [
        {
          "output_type": "execute_result",
          "data": {
            "text/plain": [
              "int"
            ]
          },
          "metadata": {},
          "execution_count": 76
        }
      ]
    },
    {
      "cell_type": "code",
      "source": [
        "print(float(a))"
      ],
      "metadata": {
        "colab": {
          "base_uri": "https://localhost:8080/"
        },
        "id": "pS846mR4hj9p",
        "outputId": "e202e4cc-794c-4229-c020-34248d4eeca9"
      },
      "execution_count": 77,
      "outputs": [
        {
          "output_type": "stream",
          "name": "stdout",
          "text": [
            "25.0\n"
          ]
        }
      ]
    },
    {
      "cell_type": "code",
      "source": [
        "print(str(a))"
      ],
      "metadata": {
        "colab": {
          "base_uri": "https://localhost:8080/"
        },
        "id": "Vmt_RgKjhvoZ",
        "outputId": "bb8bcddc-c311-470f-f98f-f2667f7ec1b4"
      },
      "execution_count": 81,
      "outputs": [
        {
          "output_type": "stream",
          "name": "stdout",
          "text": [
            "25\n"
          ]
        }
      ]
    },
    {
      "cell_type": "code",
      "source": [
        "print(bool)"
      ],
      "metadata": {
        "colab": {
          "base_uri": "https://localhost:8080/"
        },
        "id": "ibQxJn1Ch1-V",
        "outputId": "58bb2744-0805-4131-a2f7-49665d01dc41"
      },
      "execution_count": 79,
      "outputs": [
        {
          "output_type": "stream",
          "name": "stdout",
          "text": [
            "<class 'bool'>\n"
          ]
        }
      ]
    },
    {
      "cell_type": "markdown",
      "source": [
        "10. Write code to demonstrate type casting with list elements."
      ],
      "metadata": {
        "id": "S2sm-mxliQGp"
      }
    },
    {
      "cell_type": "code",
      "source": [
        "str_list = [\"1\",\"2\",\"3\",\"4\"]\n",
        "print(str_list)"
      ],
      "metadata": {
        "colab": {
          "base_uri": "https://localhost:8080/"
        },
        "id": "U1l8ovvGit45",
        "outputId": "e3c171b3-ce8d-47a3-f086-e889280bf429"
      },
      "execution_count": 83,
      "outputs": [
        {
          "output_type": "stream",
          "name": "stdout",
          "text": [
            "['1', '2', '3', '4']\n"
          ]
        }
      ]
    },
    {
      "cell_type": "code",
      "source": [
        "int_list = [int(x) for x in str_list]\n",
        "print(int_list)"
      ],
      "metadata": {
        "colab": {
          "base_uri": "https://localhost:8080/"
        },
        "id": "bBzX91wOjNgt",
        "outputId": "27afce33-9ff6-4ae8-8db0-681cbe838452"
      },
      "execution_count": 85,
      "outputs": [
        {
          "output_type": "stream",
          "name": "stdout",
          "text": [
            "[1, 2, 3, 4]\n"
          ]
        }
      ]
    },
    {
      "cell_type": "code",
      "source": [
        "float_list = [float(x) for x in str_list]\n",
        "print(float_list)"
      ],
      "metadata": {
        "colab": {
          "base_uri": "https://localhost:8080/"
        },
        "id": "WpFwH98kjP7q",
        "outputId": "6ac44f55-a4b6-4355-dea7-3720bfd2aac2"
      },
      "execution_count": 86,
      "outputs": [
        {
          "output_type": "stream",
          "name": "stdout",
          "text": [
            "[1.0, 2.0, 3.0, 4.0]\n"
          ]
        }
      ]
    },
    {
      "cell_type": "code",
      "source": [
        "bool_list = [bool(x) for x in str_list]\n",
        "print(bool_list)"
      ],
      "metadata": {
        "colab": {
          "base_uri": "https://localhost:8080/"
        },
        "id": "oaWAuG4ojT1F",
        "outputId": "848a35ef-99ec-4ef2-8b2c-ba13779f7824"
      },
      "execution_count": 87,
      "outputs": [
        {
          "output_type": "stream",
          "name": "stdout",
          "text": [
            "[True, True, True, True]\n"
          ]
        }
      ]
    },
    {
      "cell_type": "markdown",
      "source": [
        "11. Write a program that checks if a number is positive, negative, or zero."
      ],
      "metadata": {
        "id": "-OJzn2axjbTC"
      }
    },
    {
      "cell_type": "code",
      "source": [
        "num = 1\n",
        "print(num)"
      ],
      "metadata": {
        "colab": {
          "base_uri": "https://localhost:8080/"
        },
        "id": "1OpEA9ZCjj3v",
        "outputId": "ae06079b-7557-46ef-845d-56ca44fa4510"
      },
      "execution_count": 88,
      "outputs": [
        {
          "output_type": "stream",
          "name": "stdout",
          "text": [
            "1\n"
          ]
        }
      ]
    },
    {
      "cell_type": "code",
      "source": [
        "if num > 0:\n",
        "  print(\"positive\")\n",
        "elif num < 0:\n",
        "  print(\"negative\")\n",
        "else:\n",
        "  print(\"zero\")"
      ],
      "metadata": {
        "colab": {
          "base_uri": "https://localhost:8080/"
        },
        "id": "dP5vU478kADl",
        "outputId": "8e342af8-fe2f-4a50-aecb-c28fbeb330c4"
      },
      "execution_count": 89,
      "outputs": [
        {
          "output_type": "stream",
          "name": "stdout",
          "text": [
            "positive\n"
          ]
        }
      ]
    },
    {
      "cell_type": "markdown",
      "source": [
        "12. Write a for loop to print numbers from 1 to 10."
      ],
      "metadata": {
        "id": "H3rBVqSLkQdS"
      }
    },
    {
      "cell_type": "code",
      "source": [
        "for i in range(1,11):\n",
        "  print(i)\n"
      ],
      "metadata": {
        "colab": {
          "base_uri": "https://localhost:8080/"
        },
        "id": "p1FCrhsakY8c",
        "outputId": "2fe79562-1143-4846-cc88-c6dd338f8feb"
      },
      "execution_count": 97,
      "outputs": [
        {
          "output_type": "stream",
          "name": "stdout",
          "text": [
            "1\n",
            "2\n",
            "3\n",
            "4\n",
            "5\n",
            "6\n",
            "7\n",
            "8\n",
            "9\n",
            "10\n"
          ]
        }
      ]
    },
    {
      "cell_type": "markdown",
      "source": [
        "13. Write a Python program to find the sum of all even numbers between 1 and 50."
      ],
      "metadata": {
        "id": "K_fAUkxUn36d"
      }
    },
    {
      "cell_type": "code",
      "source": [
        "total = 0\n",
        "for i in range(1,51):\n",
        "  if i % 2 == 0:\n",
        "    total += i\n",
        "    print(total)\n",
        "\n",
        ""
      ],
      "metadata": {
        "colab": {
          "base_uri": "https://localhost:8080/"
        },
        "id": "SA8lNEbyoLw5",
        "outputId": "ea46f173-915a-4ce4-8631-a8a479090e4a"
      },
      "execution_count": 102,
      "outputs": [
        {
          "output_type": "stream",
          "name": "stdout",
          "text": [
            "2\n",
            "6\n",
            "12\n",
            "20\n",
            "30\n",
            "42\n",
            "56\n",
            "72\n",
            "90\n",
            "110\n",
            "132\n",
            "156\n",
            "182\n",
            "210\n",
            "240\n",
            "272\n",
            "306\n",
            "342\n",
            "380\n",
            "420\n",
            "462\n",
            "506\n",
            "552\n",
            "600\n",
            "650\n"
          ]
        }
      ]
    },
    {
      "cell_type": "markdown",
      "source": [
        "14.  Write a program to reverse a string using a while loop.\n"
      ],
      "metadata": {
        "id": "JCfT_NIbpAl1"
      }
    },
    {
      "cell_type": "code",
      "source": [
        "text =\"hello world\"\n",
        "reversed_text = \"\"\n",
        "i = len(text) - 1\n",
        "while i >= 0:\n",
        "  reversed_text += text[i]\n",
        "  i -= 1\n",
        "  print(reversed_text)\n"
      ],
      "metadata": {
        "colab": {
          "base_uri": "https://localhost:8080/"
        },
        "id": "diMkwPI8pWJm",
        "outputId": "d4d0539a-55af-4883-f769-cf0c28e974b3"
      },
      "execution_count": 106,
      "outputs": [
        {
          "output_type": "stream",
          "name": "stdout",
          "text": [
            "d\n",
            "dl\n",
            "dlr\n",
            "dlro\n",
            "dlrow\n",
            "dlrow \n",
            "dlrow o\n",
            "dlrow ol\n",
            "dlrow oll\n",
            "dlrow olle\n",
            "dlrow olleh\n"
          ]
        }
      ]
    },
    {
      "cell_type": "markdown",
      "source": [
        "15. Write a Python program to calculate the factorial of a number provided by the user using a while loop."
      ],
      "metadata": {
        "id": "3gtOeFfnqfyi"
      }
    },
    {
      "cell_type": "code",
      "source": [
        "num = int(input(\"enter the number\"))\n",
        "factorial = 1\n",
        "i = 1\n",
        "while i <= num:\n",
        "  factorial *= i\n",
        "  i += 1\n",
        "  print(f\"factorial of {num} is {factorial}\")"
      ],
      "metadata": {
        "colab": {
          "base_uri": "https://localhost:8080/"
        },
        "id": "Y0P7rmHWqoZC",
        "outputId": "087d6674-789e-4b37-a60a-31db936c824f"
      },
      "execution_count": 107,
      "outputs": [
        {
          "output_type": "stream",
          "name": "stdout",
          "text": [
            "enter the number5\n",
            "factorial of 5 is 1\n",
            "factorial of 5 is 2\n",
            "factorial of 5 is 6\n",
            "factorial of 5 is 24\n",
            "factorial of 5 is 120\n"
          ]
        }
      ]
    },
    {
      "cell_type": "code",
      "source": [],
      "metadata": {
        "id": "LLojsJBWrZzd"
      },
      "execution_count": null,
      "outputs": []
    }
  ]
}